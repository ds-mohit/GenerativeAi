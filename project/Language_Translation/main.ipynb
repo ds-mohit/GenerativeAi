{
 "cells": [
  {
   "cell_type": "markdown",
   "id": "10d1b07f",
   "metadata": {},
   "source": [
    "### Build a LLm model With LCEL\n",
    "\n",
    "--> in this we will use:\n",
    "1. using language models\n",
    "2. using Prompt templates and output parsers\n",
    "3. using langchain expression language to chsin components together\n",
    "4. debugging and tracing your app using langsmith"
   ]
  },
  {
   "cell_type": "code",
   "execution_count": 4,
   "id": "31298f06",
   "metadata": {},
   "outputs": [
    {
     "data": {
      "text/plain": [
       "True"
      ]
     },
     "execution_count": 4,
     "metadata": {},
     "output_type": "execute_result"
    }
   ],
   "source": [
    "import os\n",
    "from dotenv import load_dotenv\n",
    "load_dotenv()"
   ]
  },
  {
   "cell_type": "code",
   "execution_count": 5,
   "id": "7f42a978",
   "metadata": {},
   "outputs": [],
   "source": [
    "# Importing the ChatGroq class from langchain_groq\n",
    "from langchain_groq import ChatGroq\n",
    "\n",
    "groq_api_key = os.getenv(\"GROQ_API_KEY\")\n",
    "\n",
    "if groq_api_key is None:\n",
    "    raise ValueError(\"Set your GROQ_API_KEY environment variable\")\n",
    "\n",
    "model = ChatGroq(model=\"Gemma2-9b-It\", groq_api_key=groq_api_key)\n"
   ]
  },
  {
   "cell_type": "code",
   "execution_count": 6,
   "id": "843580b9",
   "metadata": {},
   "outputs": [],
   "source": [
    "from langchain_core.messages import HumanMessage,SystemMessage\n",
    "\n",
    "message=[\n",
    "    SystemMessage(content=\"You are a helpful assistant.\"),\n",
    "    HumanMessage(content=\"i love programming\"),\n",
    "    ]"
   ]
  },
  {
   "cell_type": "code",
   "execution_count": 7,
   "id": "83bf7131",
   "metadata": {},
   "outputs": [
    {
     "data": {
      "text/plain": [
       "AIMessage(content=\"That's awesome! Programming is a really rewarding skill. \\n\\nIs there anything specific I can help you with today? \\n\\nDo you have a coding problem you're stuck on?  Want to learn about a new programming language or concept?  Or maybe you just want to chat about your favorite programming projects? \\n\\nI'm here to help in any way I can!\\n\", additional_kwargs={}, response_metadata={'token_usage': {'completion_tokens': 82, 'prompt_tokens': 18, 'total_tokens': 100, 'completion_time': 0.149090909, 'prompt_time': 0.001254209, 'queue_time': 0.255100446, 'total_time': 0.150345118}, 'model_name': 'Gemma2-9b-It', 'system_fingerprint': 'fp_10c08bf97d', 'service_tier': 'on_demand', 'finish_reason': 'stop', 'logprobs': None}, id='run--3ffd01f6-ca00-4c07-a3f4-a3876b8d8032-0', usage_metadata={'input_tokens': 18, 'output_tokens': 82, 'total_tokens': 100})"
      ]
     },
     "execution_count": 7,
     "metadata": {},
     "output_type": "execute_result"
    }
   ],
   "source": [
    "result=model.invoke(message)\n",
    "result"
   ]
  },
  {
   "cell_type": "code",
   "execution_count": 8,
   "id": "14b74742",
   "metadata": {},
   "outputs": [
    {
     "data": {
      "text/plain": [
       "\"That's awesome! Programming is a really rewarding skill. \\n\\nIs there anything specific I can help you with today? \\n\\nDo you have a coding problem you're stuck on?  Want to learn about a new programming language or concept?  Or maybe you just want to chat about your favorite programming projects? \\n\\nI'm here to help in any way I can!\\n\""
      ]
     },
     "execution_count": 8,
     "metadata": {},
     "output_type": "execute_result"
    }
   ],
   "source": [
    "from langchain_core.output_parsers import StrOutputParser\n",
    "output_parser = StrOutputParser()\n",
    "output_parser.invoke(result)"
   ]
  },
  {
   "cell_type": "code",
   "execution_count": 9,
   "id": "913a4be5",
   "metadata": {},
   "outputs": [
    {
     "data": {
      "text/plain": [
       "\"That's awesome! I love helping people with programming.  \\n\\nIs there anything specific I can help you with today? \\n\\nFor example, I can:\\n\\n* **Explain programming concepts**:  Stuck on a tricky topic?  Ask away!\\n* **Generate code snippets**:  Need a quick piece of code to get started? I can help.\\n* **Debug your code**:  Let's work together to find and fix those pesky errors.\\n* **Discuss programming languages**:  What are you interested in learning or using?\\n* **Brainstorm project ideas**:  Need some inspiration for your next project?\\n\\nJust let me know how I can be of service! 😊\\n\""
      ]
     },
     "execution_count": 9,
     "metadata": {},
     "output_type": "execute_result"
    }
   ],
   "source": [
    "#LCEL --> comp chain / combine together \n",
    "chain= model | output_parser\n",
    "chain.invoke(message)"
   ]
  },
  {
   "cell_type": "code",
   "execution_count": 13,
   "id": "8e6584a5",
   "metadata": {},
   "outputs": [
    {
     "data": {
      "text/plain": [
       "[SystemMessage(content='Translate the following into French ', additional_kwargs={}, response_metadata={}),\n",
       " HumanMessage(content='I love programming', additional_kwargs={}, response_metadata={})]"
      ]
     },
     "execution_count": 13,
     "metadata": {},
     "output_type": "execute_result"
    }
   ],
   "source": [
    "# prompt templates\n",
    "from langchain_core.prompts import ChatPromptTemplate\n",
    "generic_templates=\"Translate the following into {Language} \"\n",
    "prompt=ChatPromptTemplate.from_messages(\n",
    "    [\n",
    "        (\"system\",generic_templates),\n",
    "        (\"user\", \"{text}\"),\n",
    "    ]\n",
    ")\n",
    "result=prompt.invoke({\"Language\":\"French\",\"text\":\"I love programming\"})\n",
    "result.to_messages()"
   ]
  },
  {
   "cell_type": "code",
   "execution_count": 18,
   "id": "c535bdd8",
   "metadata": {},
   "outputs": [
    {
     "data": {
      "text/plain": [
       "'मुझे प्रोग्रामिंग पसंद है। \\n'"
      ]
     },
     "execution_count": 18,
     "metadata": {},
     "output_type": "execute_result"
    }
   ],
   "source": [
    "## combine\n",
    "chain=prompt| model | output_parser \n",
    "chain.invoke({\"Language\":\"hindi\",\"text\":\"I love programming\"})"
   ]
  },
  {
   "cell_type": "code",
   "execution_count": 1,
   "id": "c5c8646e",
   "metadata": {},
   "outputs": [],
   "source": [
    "## Langserve --> deploying the model\n",
    "## streamlit/flask --> web framework\n"
   ]
  },
  {
   "cell_type": "code",
   "execution_count": null,
   "id": "499ae94b",
   "metadata": {},
   "outputs": [],
   "source": []
  }
 ],
 "metadata": {
  "kernelspec": {
   "display_name": "Python 3",
   "language": "python",
   "name": "python3"
  },
  "language_info": {
   "codemirror_mode": {
    "name": "ipython",
    "version": 3
   },
   "file_extension": ".py",
   "mimetype": "text/x-python",
   "name": "python",
   "nbconvert_exporter": "python",
   "pygments_lexer": "ipython3",
   "version": "3.11.9"
  }
 },
 "nbformat": 4,
 "nbformat_minor": 5
}
